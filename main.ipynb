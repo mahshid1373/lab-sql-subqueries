{
 "cells": [
  {
   "cell_type": "markdown",
   "metadata": {},
   "source": [
    "## Introduction\n",
    "\n",
    "Welcome to the SQL Subqueries lab!\n",
    "\n",
    "In this lab, you will be working with the [Sakila](https://dev.mysql.com/doc/sakila/en/) database on movie rentals. Specifically, you will be practicing how to perform subqueries, which are queries embedded within other queries. Subqueries allow you to retrieve data from one or more tables and use that data in a separate query to retrieve more specific information.\n",
    "\n",
    "## Challenge\n",
    "\n",
    "Write SQL queries to perform the following tasks using the Sakila database:"
   ]
  },
  {
   "cell_type": "code",
   "execution_count": null,
   "metadata": {
    "vscode": {
     "languageId": "plaintext"
    }
   },
   "outputs": [],
   "source": [
    "-- Subquery to find the film_id for \"Hunchback Impossible\"\n",
    "SELECT COUNT(*)\n",
    "FROM inventory\n",
    "WHERE film_id = (\n",
    "    SELECT film_id\n",
    "    FROM film\n",
    "    WHERE title = 'Hunchback Impossible'\n",
    ");"
   ]
  },
  {
   "cell_type": "markdown",
   "metadata": {},
   "source": [
    "List all films whose length is longer than the average length of all the films in the Sakila database."
   ]
  },
  {
   "cell_type": "code",
   "execution_count": null,
   "metadata": {
    "vscode": {
     "languageId": "plaintext"
    }
   },
   "outputs": [],
   "source": [
    "-- Subquery to calculate the average length of all films\n",
    "SELECT title, length\n",
    "FROM film\n",
    "WHERE length > (\n",
    "    SELECT AVG(length)\n",
    "    FROM film\n",
    ");"
   ]
  },
  {
   "cell_type": "markdown",
   "metadata": {},
   "source": [
    "Use a subquery to display all actors who appear in the film \"Alone Trip\"."
   ]
  },
  {
   "cell_type": "code",
   "execution_count": null,
   "metadata": {
    "vscode": {
     "languageId": "plaintext"
    }
   },
   "outputs": [],
   "source": [
    "-- Subquery to find the film_id for \"Alone Trip\"\n",
    "SELECT a.actor_id, a.first_name, a.last_name\n",
    "FROM actor a\n",
    "JOIN film_actor fa ON a.actor_id = fa.actor_id\n",
    "WHERE fa.film_id = (\n",
    "    SELECT film_id\n",
    "    FROM film\n",
    "    WHERE title = 'Alone Trip'\n",
    ");"
   ]
  }
 ],
 "metadata": {
  "language_info": {
   "name": "python"
  }
 },
 "nbformat": 4,
 "nbformat_minor": 2
}
